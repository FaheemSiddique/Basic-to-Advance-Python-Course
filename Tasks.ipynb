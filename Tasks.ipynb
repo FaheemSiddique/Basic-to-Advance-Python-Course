{
  "nbformat": 4,
  "nbformat_minor": 0,
  "metadata": {
    "colab": {
      "name": "Tasks.ipynb",
      "provenance": [],
      "collapsed_sections": [],
      "authorship_tag": "ABX9TyNLRSS7BajX8Qbo+8V+sGqq",
      "include_colab_link": true
    },
    "kernelspec": {
      "name": "python3",
      "display_name": "Python 3"
    },
    "language_info": {
      "name": "python"
    }
  },
  "cells": [
    {
      "cell_type": "markdown",
      "metadata": {
        "id": "view-in-github",
        "colab_type": "text"
      },
      "source": [
        "<a href=\"https://colab.research.google.com/github/FaheemSiddique/Basic-to-Advance-Python-Course/blob/main/Tasks.ipynb\" target=\"_parent\"><img src=\"https://colab.research.google.com/assets/colab-badge.svg\" alt=\"Open In Colab\"/></a>"
      ]
    },
    {
      "cell_type": "markdown",
      "metadata": {
        "id": "EHIYiWPSBr9-"
      },
      "source": [
        "# Task-**1**"
      ]
    },
    {
      "cell_type": "code",
      "metadata": {
        "id": "RGyRVuHvBpCO"
      },
      "source": [
        "def selection(ch):\n",
        "  if ch==1:\n",
        "    print(\"You have selected Soup and Salad and Your order will be ready in 30 minutes\")\n",
        "  elif ch==2:\n",
        "    print(\"You have selected Pasta with meat Sauce and Your order will be ready in 60 minutes\")\n",
        "  elif ch==3:\n",
        "    print(\"You have selected Chef's Special and Your order will be ready in 45 minutes\")\n",
        "  else:\n",
        "    print('''You have entered an invalid number\n",
        "Please Try again from 1 to 3 numbers''')\n",
        "    menu()\n",
        "    selection(a)\n",
        "  print(\"Thanks for Choosing our Services\")\n",
        "\n",
        "def menu():\n",
        "  print('''*****Cafe Menu*****\n",
        "1-Soup and Salad\n",
        "2-Pasta with meat Sauce\n",
        "3-Chef's Special''')\n",
        "  global a\n",
        "  a=int(input(\"Enter your choice from above memu = \"))\n",
        "menu()\n",
        "selection(a)"
      ],
      "execution_count": null,
      "outputs": []
    }
  ]
}
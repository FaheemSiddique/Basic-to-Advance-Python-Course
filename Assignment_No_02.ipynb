{
  "nbformat": 4,
  "nbformat_minor": 0,
  "metadata": {
    "colab": {
      "name": "Assignment No:02.ipynb",
      "provenance": [],
      "authorship_tag": "ABX9TyMLjKcsZzfBvAphRwXbohHj",
      "include_colab_link": true
    },
    "kernelspec": {
      "name": "python3",
      "display_name": "Python 3"
    },
    "language_info": {
      "name": "python"
    }
  },
  "cells": [
    {
      "cell_type": "markdown",
      "metadata": {
        "id": "view-in-github",
        "colab_type": "text"
      },
      "source": [
        "<a href=\"https://colab.research.google.com/github/FaheemSiddique/Basic-to-Advance-Python-Course/blob/main/Assignment_No_02.ipynb\" target=\"_parent\"><img src=\"https://colab.research.google.com/assets/colab-badge.svg\" alt=\"Open In Colab\"/></a>"
      ]
    },
    {
      "cell_type": "code",
      "metadata": {
        "colab": {
          "base_uri": "https://localhost:8080/"
        },
        "id": "xINj9AgQOmv6",
        "outputId": "56599878-d0e6-4684-e601-d76740a87ecc"
      },
      "source": [
        "# Percentage Program\n",
        "x=int(input('Please Enter the Marks='))\n",
        "if x >= 80:\n",
        "  print('A')\n",
        "elif x >=60 and x <80:\n",
        "  print('B')\n",
        "elif x >=50 and x <60:\n",
        "  print('C')\n",
        "elif x >=45 and x <50:\n",
        "  print('D')\n",
        "elif x >=25 and x <45:\n",
        "  print('E')\n",
        "else:\n",
        "  print('F')  "
      ],
      "execution_count": 35,
      "outputs": [
        {
          "output_type": "stream",
          "text": [
            "Please Enter the Marks=49\n",
            "D\n"
          ],
          "name": "stdout"
        }
      ]
    },
    {
      "cell_type": "code",
      "metadata": {
        "colab": {
          "base_uri": "https://localhost:8080/"
        },
        "id": "KBy7hJOHSFVL",
        "outputId": "a7a6571c-8368-4daf-9079-e4be8a4d2c72"
      },
      "source": [
        "#Take input of age of 3 people and find oldest and youngest among them\n",
        "age1=int(input(\"Enter the age of 1st Person=\"))\n",
        "age2=int(input(\"Enter the age of 2nd Person=\"))\n",
        "age3=int(input(\"Enter the age of 3rd Person=\"))\n",
        "\n",
        "if age1>age2 and age1>age3 and age2>age3:\n",
        "  print(\"1st Person is Oldest \\n3rd Person is Youngest\")\n",
        "elif age1>age2 and age1>age3 and age3>age2:\n",
        "  print(\"1st Person is Oldest \\n2rd Person is Youngest\")\n",
        "elif age2>age3 and age2>age1 and age3>age1:\n",
        "  print('2nd Person is Oldest \\n1st Person is Youngest')\n",
        "elif age2>age3 and age2>age1 and age1>age3:\n",
        "  print('2nd Person is Oldest \\n3st Person is Youngest')\n",
        "elif age3>age1 and age3>age2 and age1>age2:\n",
        "  print('3rd Person is Oldest \\n2nd Person is Youngest')\n",
        "else:\n",
        "  print('3rd Person is Oldest \\n1st Person is Youngest')\n"
      ],
      "execution_count": 26,
      "outputs": [
        {
          "output_type": "stream",
          "text": [
            "Enter the age of 1st Person=2\n",
            "Enter the age of 2nd Person=1\n",
            "Enter the age of 3rd Person=3\n",
            "3rd Person is Oldest \n",
            "2nd Person is Youngest\n"
          ],
          "name": "stdout"
        }
      ]
    },
    {
      "cell_type": "code",
      "metadata": {
        "colab": {
          "base_uri": "https://localhost:8080/"
        },
        "id": "gGlHjqEubXuS",
        "outputId": "3f2b88c5-73be-49c9-e259-5a895091695c"
      },
      "source": [
        "# Calculator Program\n",
        "print(\"What do you want to do with this calculator ??? \\nSelect an option from the following:\\nIf you want to add select 1\\nIf you want to subtract select 2\\nIf you want to Multiply select 3\\nIf you want to Divide select 4\\nIf you want to take reminder select 5\")\n",
        "x=int(input('Enter integer from 1 to 5 ='))\n",
        "if x==1 or x==2 or x==3 or x==4 or x==5:\n",
        "  a=int(input('Enter Your first Number ='))\n",
        "  b=int(input('Enter Your second Number ='))\n",
        "else:\n",
        "  print('You have entered invalid number, Please Try again by selecting from 1 to 5 number options')\n",
        "if x==1:\n",
        "  print('Addition of', a , 'and', b , 'is =', a+b )\n",
        "elif x==2:\n",
        "  print('Subtraction of', a , 'from', b , 'is =', a-b )\n",
        "elif x==3:\n",
        "  print('Multiplication of', a , 'and', b , 'is =', a*b )\n",
        "elif x==4:\n",
        "  print('Division of', a , 'by', b , 'is =', a/b )\n",
        "elif x==5:\n",
        "  print('Reminder of', a , 'by', b , 'is =', a%b )"
      ],
      "execution_count": 61,
      "outputs": [
        {
          "output_type": "stream",
          "text": [
            "What do you want to do with this calculator ??? \n",
            "Select an option from the following:\n",
            "If you want to add select 1\n",
            "If you want to subtract select 2\n",
            "If you want to Multiply select 3\n",
            "If you want to Divide select 4\n",
            "If you want to take reminder select 5\n",
            "Enter integer from 1 to 5 =5\n",
            "Enter Your first Number =5\n",
            "Enter Your second Number =7\n",
            "Reminder of 5 by 7 is = 5\n"
          ],
          "name": "stdout"
        }
      ]
    }
  ]
}